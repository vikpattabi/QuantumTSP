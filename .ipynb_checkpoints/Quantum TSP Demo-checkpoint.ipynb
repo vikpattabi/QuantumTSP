{
 "cells": [
  {
   "cell_type": "markdown",
   "metadata": {},
   "source": [
    "# Quantum TSP Solver\n",
    "\n",
    "Vikram Pattabi <br> \n",
    "CS269Q: Quantum Computer Programming <br> \n",
    "Spring 2019-2019 <br> \n",
    "Stanford University <br> \n",
    "\n",
    "----------------------------------------------"
   ]
  },
  {
   "cell_type": "markdown",
   "metadata": {},
   "source": [
    "This notebook runs my implementation of a quantum Traveling Salesman solver. The method is based on [this paper](https://arxiv.org/pdf/1805.10928.pdf) which reframes the challenge of determining path lenghts as a problem of quantum phase estimation. \n",
    "\n",
    "\n",
    "To set-up this project, make sure to have pyQuil and all of its dependencies installed and working. Then, run 'quilC -S' and 'qvm -S' in separate terminal windows before executing any pyQuil functions. "
   ]
  },
  {
   "cell_type": "code",
   "execution_count": 4,
   "metadata": {},
   "outputs": [],
   "source": [
    "import sys\n",
    "sys.path.append('/home/vik/miniconda2/envs/quantum/lib/python3.7')"
   ]
  },
  {
   "cell_type": "code",
   "execution_count": null,
   "metadata": {},
   "outputs": [],
   "source": [
    "path = ['/home/vik/Documents/Stanford/Senior/Spring/269q/QuantumTSP', '/home/vik/miniconda2/envs/quantum/lib/python37.zip', '/home/vik/miniconda2/envs/quantum/lib/python3.7', '/home/vik/miniconda2/envs/quantum/lib/python3.7/lib-dynload', '/home/vik/.local/lib/python3.7/site-packages', '/home/vik/miniconda2/envs/quantum/lib/python3.7/site-packages']\n",
    "for item in path:\n",
    "    sys.path.append(item)"
   ]
  },
  {
   "cell_type": "code",
   "execution_count": 5,
   "metadata": {},
   "outputs": [
    {
     "name": "stdout",
     "output_type": "stream",
     "text": [
      "['/usr/lib/python36.zip', '/usr/lib/python3.6', '/usr/lib/python3.6/lib-dynload', '', '/home/vik/.local/lib/python3.6/site-packages', '/usr/local/lib/python3.6/dist-packages', '/usr/lib/python3/dist-packages', '/home/vik/.local/lib/python3.6/site-packages/IPython/extensions', '/home/vik/.ipython', '/home/vik/miniconda2/envs/quantum/bin/python', '/home/vik/miniconda2/envs/quantum/lib/python3.7']\n"
     ]
    }
   ],
   "source": [
    "print(sys.path)"
   ]
  },
  {
   "cell_type": "code",
   "execution_count": 6,
   "metadata": {},
   "outputs": [
    {
     "ename": "ModuleNotFoundError",
     "evalue": "No module named 'pyquil'",
     "output_type": "error",
     "traceback": [
      "\u001b[0;31m---------------------------------------------------------------------------\u001b[0m",
      "\u001b[0;31mModuleNotFoundError\u001b[0m                       Traceback (most recent call last)",
      "\u001b[0;32m<ipython-input-6-a234170dc069>\u001b[0m in \u001b[0;36m<module>\u001b[0;34m\u001b[0m\n\u001b[0;32m----> 1\u001b[0;31m \u001b[0;32mimport\u001b[0m \u001b[0mpyquil\u001b[0m\u001b[0;34m\u001b[0m\u001b[0;34m\u001b[0m\u001b[0m\n\u001b[0m",
      "\u001b[0;31mModuleNotFoundError\u001b[0m: No module named 'pyquil'"
     ]
    }
   ],
   "source": [
    "import pyquil"
   ]
  },
  {
   "cell_type": "code",
   "execution_count": null,
   "metadata": {},
   "outputs": [],
   "source": []
  }
 ],
 "metadata": {
  "kernelspec": {
   "display_name": "quantum",
   "language": "python",
   "name": "quantum"
  },
  "language_info": {
   "codemirror_mode": {
    "name": "ipython",
    "version": 3
   },
   "file_extension": ".py",
   "mimetype": "text/x-python",
   "name": "python",
   "nbconvert_exporter": "python",
   "pygments_lexer": "ipython3",
   "version": "3.6.7"
  }
 },
 "nbformat": 4,
 "nbformat_minor": 2
}
