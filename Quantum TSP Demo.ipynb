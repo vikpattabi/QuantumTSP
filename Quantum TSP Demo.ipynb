{
 "cells": [
  {
   "cell_type": "markdown",
   "metadata": {},
   "source": [
    "# Quantum TSP Solver\n",
    "\n",
    "Vikram Pattabi <br> \n",
    "CS269Q: Quantum Computer Programming <br> \n",
    "Spring 2019-2019 <br> \n",
    "Stanford University <br> \n",
    "\n",
    "----------------------------------------------"
   ]
  },
  {
   "cell_type": "markdown",
   "metadata": {},
   "source": [
    "This notebook runs my implementation of a quantum Traveling Salesman solver. The method is based on [this paper](https://arxiv.org/pdf/1805.10928.pdf) which reframes the challenge of determining path lenghts as a problem of quantum phase estimation. \n",
    "\n",
    "\n",
    "To set-up this project, make sure to have pyQuil and all of its dependencies installed and working. Then, run 'quilC -S' and 'qvm -S' in separate terminal windows before executing any pyQuil functions. "
   ]
  },
  {
   "cell_type": "code",
   "execution_count": null,
   "metadata": {},
   "outputs": [],
   "source": []
  }
 ],
 "metadata": {
  "kernelspec": {
   "display_name": "Python 3",
   "language": "python",
   "name": "python3"
  },
  "language_info": {
   "codemirror_mode": {
    "name": "ipython",
    "version": 3
   },
   "file_extension": ".py",
   "mimetype": "text/x-python",
   "name": "python",
   "nbconvert_exporter": "python",
   "pygments_lexer": "ipython3",
   "version": "3.6.7"
  }
 },
 "nbformat": 4,
 "nbformat_minor": 2
}
